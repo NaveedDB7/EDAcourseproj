{
  "nbformat": 4,
  "nbformat_minor": 0,
  "metadata": {
    "colab": {
      "provenance": [],
      "authorship_tag": "ABX9TyNXM3vhg+kU1IvAdqp3HL7/",
      "include_colab_link": true
    },
    "kernelspec": {
      "name": "python3",
      "display_name": "Python 3"
    },
    "language_info": {
      "name": "python"
    }
  },
  "cells": [
    {
      "cell_type": "markdown",
      "metadata": {
        "id": "view-in-github",
        "colab_type": "text"
      },
      "source": [
        "<a href=\"https://colab.research.google.com/github/NaveedDB7/EDAcourseproj/blob/main/EDAproject.ipynb\" target=\"_parent\"><img src=\"https://colab.research.google.com/assets/colab-badge.svg\" alt=\"Open In Colab\"/></a>"
      ]
    },
    {
      "cell_type": "code",
      "execution_count": 5,
      "metadata": {
        "id": "a3PcJjhniuR_",
        "outputId": "724036fa-d64a-4082-bc17-8f979ca46a27",
        "colab": {
          "base_uri": "https://localhost:8080/"
        }
      },
      "outputs": [
        {
          "output_type": "stream",
          "name": "stdout",
          "text": [
            "   rownames card  reports       age  income     share  expenditure owner  \\\n",
            "0         1  yes        0  37.66667  4.5200  0.033270   124.983300   yes   \n",
            "1         2  yes        0  33.25000  2.4200  0.005217     9.854167    no   \n",
            "2         3  yes        0  33.66667  4.5000  0.004156    15.000000   yes   \n",
            "3         4  yes        0  30.50000  2.5400  0.065214   137.869200    no   \n",
            "4         5  yes        0  32.16667  9.7867  0.067051   546.503300   yes   \n",
            "\n",
            "  selfemp  dependents  months  majorcards  active  \n",
            "0      no           3      54           1      12  \n",
            "1      no           3      34           1      13  \n",
            "2      no           4      58           1       5  \n",
            "3      no           0      25           1       7  \n",
            "4      no           2      64           1       5  \n"
          ]
        }
      ],
      "source": [
        "import pandas as pd\n",
        "\n",
        "\n",
        "df = pd.read_csv(\"https://raw.githubusercontent.com/salemprakash/EDA/main/Data/CreditCard.csv\")\n",
        "\n",
        "print(df.head())\n"
      ]
    },
    {
      "cell_type": "code",
      "source": [],
      "metadata": {
        "id": "xIrRzpN8Av05"
      },
      "execution_count": null,
      "outputs": []
    }
  ]
}